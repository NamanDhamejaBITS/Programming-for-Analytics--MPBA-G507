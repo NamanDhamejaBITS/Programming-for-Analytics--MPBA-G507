{
 "cells": [
  {
   "cell_type": "code",
   "execution_count": null,
   "metadata": {},
   "outputs": [],
   "source": [
    "## Encapsulation Illustration\n",
    "class StocksPurchased(Stockprice):\n",
    "    def __init__(self, stock_name, ex_name, stock_price, qty_purchased):\n",
    "        super().__init__(stock_name, ex_name, stock_price)\n",
    "        self.__qty_purchased = qty_purchased\n",
    "    \n",
    "    def display_qty_purchased(self):\n",
    "        print(\"The number of stocks purchased are : \" +str(self.__qty_purchased))"
   ]
  },
  {
   "cell_type": "code",
   "execution_count": null,
   "metadata": {},
   "outputs": [],
   "source": [
    "tata_motors_object = StocksPurchased(\"TATA MOTORS\", \"BSE\", 506, 20)\n",
    "tata_motors_object.display_stock()\n",
    "tata_motors_object.display_sector()\n",
    "tata_motors_object.display_stock_price()\n",
    "tata_motors_object.display_qty_purchased()"
   ]
  },
  {
   "cell_type": "code",
   "execution_count": null,
   "metadata": {},
   "outputs": [],
   "source": [
    "# One cannot change the protected attributes.\n",
    "# The following change in quantity will not change the value\n",
    "\n",
    "tata_motors_object.__qty_purchased = 50\n",
    "tata_motors_object.display_qty_purchased()\n",
    "## Write separate getter and setter methods to fetch and change the stocks purchased values"
   ]
  },
  {
   "cell_type": "code",
   "execution_count": null,
   "metadata": {},
   "outputs": [],
   "source": [
    "class StocksPurchased(Stockprice):\n",
    "    def __init__(self, stock_name, ex_name, stock_price, qty_purchased):\n",
    "        super().__init__(stock_name, ex_name, stock_price)\n",
    "        self.__qty_purchased = 20\n",
    "    \n",
    "    def set_stock_qty(self, qty_purchased):\n",
    "        self.__qty_purchased = qty_purchased\n",
    "\n",
    "    def display_qty_purchased(self):\n",
    "        print(\"The number of stocks purchased are : \" +str(self.__qty_purchased))"
   ]
  },
  {
   "cell_type": "code",
   "execution_count": null,
   "metadata": {},
   "outputs": [],
   "source": [
    "tata_motors_object.set_stock_qty(50)\n",
    "tata_motors_object.display_qty_purchased()"
   ]
  },
  {
   "cell_type": "code",
   "execution_count": null,
   "metadata": {},
   "outputs": [],
   "source": [
    "## Write a separate method that can be protected with enapsulation\n",
    "## use _ClassName.__method to access the same\n",
    "class StocksPurchased(Stockprice):\n",
    "    def __init__(self, stock_name, ex_name, stock_price, qty_purchased):\n",
    "        super().__init__(stock_name, ex_name, stock_price)\n",
    "        self.__qty_purchased = 20\n",
    "    \n",
    "    def set_stock_qty(self, qty_purchased):\n",
    "        self.__qty_purchased = qty_purchased\n",
    "\n",
    "    def display_qty_purchased(self):\n",
    "        print(\"The number of stocks purchased are : \" +str(self.__qty_purchased))\n",
    "    \n",
    "    def __amount_invested(self):\n",
    "        print(\"The amount invested : \" +str(self.__qty_purchased * self.stock_price))"
   ]
  },
  {
   "cell_type": "code",
   "execution_count": null,
   "metadata": {},
   "outputs": [],
   "source": [
    "tata_motors_object = StocksPurchased(\"TATA MOTORS\", \"BSE\", 506, 20)\n",
    "tata_motors_object.display_stock()\n",
    "tata_motors_object.display_sector()\n",
    "tata_motors_object.display_stock_price()\n",
    "tata_motors_object.display_qty_purchased()\n",
    "tata_motors_object._StocksPurchased__amount_invested()"
   ]
  },
  {
   "cell_type": "code",
   "execution_count": null,
   "metadata": {},
   "outputs": [],
   "source": [
    "tata_motors_object.set_stock_qty(50)\n",
    "tata_motors_object.display_qty_purchased()\n",
    "tata_motors_object._StocksPurchased__amount_invested()"
   ]
  }
 ],
 "metadata": {
  "language_info": {
   "name": "python"
  },
  "orig_nbformat": 4
 },
 "nbformat": 4,
 "nbformat_minor": 2
}
