{
 "cells": [
  {
   "cell_type": "code",
   "execution_count": null,
   "metadata": {},
   "outputs": [],
   "source": [
    "## Polymorphism\n",
    "a = 5\n",
    "b = 7\n",
    "print(a+b)\n",
    "\n",
    "a = \"BITS\"\n",
    "b = \" Pilani\"\n",
    "print(a+b)"
   ]
  },
  {
   "cell_type": "code",
   "execution_count": null,
   "metadata": {},
   "outputs": [],
   "source": [
    "# Polymorphism in user-defined methods\n",
    "# Reference\n",
    "from math import pi\n",
    "\n",
    "class Rectangle:\n",
    "   def __init__(self, length, breadth):\n",
    "      self.l = length\n",
    "      self.b = breadth\n",
    "   def perimeter(self):\n",
    "      return 2*(self.l + self.b)\n",
    "   def area(self):\n",
    "      return self.l * self.b\n",
    "\n",
    "class Circle:\n",
    "   def __init__(self, radius):\n",
    "      self.r = radius\n",
    "   def perimeter(self):\n",
    "      return 2 * pi * self.r\n",
    "   def area(self):\n",
    "      return pi * self.r ** 2\n",
    "\n",
    "# Initialize the classes\n",
    "rec = Rectangle(5,3)\n",
    "cr = Circle(4)\n",
    "print(\"Perimter of rectangel: \",rec.perimeter())\n",
    "print(\"Area of rectangel: \",rec.area())\n",
    "\n",
    "print(\"Perimter of Circle: \",cr.perimeter())\n",
    "print(\"Area of Circle: \",cr.area())"
   ]
  }
 ],
 "metadata": {
  "language_info": {
   "name": "python"
  },
  "orig_nbformat": 4
 },
 "nbformat": 4,
 "nbformat_minor": 2
}
