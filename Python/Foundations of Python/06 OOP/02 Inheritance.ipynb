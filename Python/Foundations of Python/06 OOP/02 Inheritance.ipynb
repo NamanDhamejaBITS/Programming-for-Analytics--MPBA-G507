{
 "cells": [
  {
   "cell_type": "markdown",
   "metadata": {},
   "source": [
    "## Inheritance Illustration"
   ]
  },
  {
   "cell_type": "code",
   "execution_count": 28,
   "metadata": {},
   "outputs": [],
   "source": [
    "stocks_dict = {\"INFY\":\"IT\", \"TCS\": \"IT\", \"HDFC\": \"BANK\", \"TATA MOTORS\": \"AUTO\", \"RELIANCE\" : \"EVERYTHING\", \"NYKAA\" : \"ECOMMERCE\",\n",
    "\"LAURAS LABS\" : \"PHARMA\" }"
   ]
  },
  {
   "cell_type": "code",
   "execution_count": 2,
   "metadata": {},
   "outputs": [],
   "source": [
    "# Create a class of Stock\n",
    "class Stock(): #note superclass is not used\n",
    "    def __init__(self, stock_name, ex_name):\n",
    "        self.stock_name = stock_name\n",
    "        self.ex_name    = ex_name\n",
    "    \n",
    "    def display_stock(self):\n",
    "        print(\"The selected stock is \" +self.stock_name )\n",
    "        print(\"The selected stock trades at exchange \" +self.ex_name )"
   ]
  },
  {
   "cell_type": "code",
   "execution_count": 3,
   "metadata": {},
   "outputs": [
    {
     "name": "stdout",
     "output_type": "stream",
     "text": [
      "The selected stock is INFY\n",
      "The selected stock trades at exchange NSE\n"
     ]
    }
   ],
   "source": [
    "infy_object = Stock(\"INFY\", \"NSE\")\n",
    "infy_object.display_stock()"
   ]
  },
  {
   "cell_type": "code",
   "execution_count": 4,
   "metadata": {},
   "outputs": [],
   "source": [
    "# Create a Stocksector() class and inherit name and exchange from Stock() class\n",
    "class Stocksector(Stock):\n",
    "    def display_sector(self):\n",
    "        x = stocks_dict[self.stock_name]\n",
    "        print(\"The selected stock sector is : \" + x)\n"
   ]
  },
  {
   "cell_type": "code",
   "execution_count": 5,
   "metadata": {},
   "outputs": [
    {
     "name": "stdout",
     "output_type": "stream",
     "text": [
      "The selected stock is HDFC\n",
      "The selected stock trades at exchange NSE\n",
      "The selected stock sector is : BANK\n"
     ]
    }
   ],
   "source": [
    "hdfc_object = Stocksector(\"HDFC\", \"NSE\")\n",
    "hdfc_object.display_stock()\n",
    "hdfc_object.display_sector()"
   ]
  },
  {
   "cell_type": "markdown",
   "metadata": {},
   "source": [
    "### Inheriting and Method Overriding\n"
   ]
  },
  {
   "cell_type": "code",
   "execution_count": 6,
   "metadata": {},
   "outputs": [
    {
     "name": "stdout",
     "output_type": "stream",
     "text": [
      "The selected stock is INFY\n",
      "The selected stock trades at exchange NSE\n",
      "The selected stock sector is : IT\n"
     ]
    }
   ],
   "source": [
    "infy_object = Stocksector(\"INFY\", \"NSE\")\n",
    "infy_object.display_stock()\n",
    "infy_object.display_sector()"
   ]
  },
  {
   "cell_type": "markdown",
   "metadata": {},
   "source": [
    "## Inheriting and Updating Attributes with Super\n",
    "* Add an attribute \"stock_price\" through a class using \"super\" methor"
   ]
  },
  {
   "cell_type": "code",
   "execution_count": 9,
   "metadata": {},
   "outputs": [],
   "source": [
    "class Stockprice(Stocksector):\n",
    "    def __init__(self, stock_name, ex_name, stock_price):\n",
    "        super().__init__(stock_name, ex_name)\n",
    "        self.stock_price = stock_price\n",
    "        \n",
    "    def display_stock(self):\n",
    "        print(\"STOCKPRICE CLASSS: The selected stock is \" +self.stock_name )\n",
    "        print(\"STOCKPRICE CLASSS: The selected stock trades at exchange \" +self.ex_name )\n",
    "\n",
    "    def display_stock_price(self):\n",
    "        print(\"The price of stock \"+ self.stock_name +\" is \" + str(self.stock_price))"
   ]
  },
  {
   "cell_type": "code",
   "execution_count": 10,
   "metadata": {},
   "outputs": [
    {
     "name": "stdout",
     "output_type": "stream",
     "text": [
      "STOCKPRICE CLASSS: The selected stock is TATA MOTORS\n",
      "STOCKPRICE CLASSS: The selected stock trades at exchange BSE\n",
      "The selected stock sector is : AUTO\n",
      "The price of stock TATA MOTORS is 506\n"
     ]
    }
   ],
   "source": [
    "tata_motors_object = Stockprice(\"TATA MOTORS\", \"BSE\", 506)\n",
    "tata_motors_object.display_stock()\n",
    "tata_motors_object.display_sector()\n",
    "tata_motors_object.display_stock_price()"
   ]
  },
  {
   "cell_type": "code",
   "execution_count": 23,
   "metadata": {},
   "outputs": [],
   "source": [
    "# Create a class of Stock\n",
    "class StockAttr(): #note superclass is not used\n",
    "    def __init__(self, stock_name, ex_name):\n",
    "        self.stock_name = 'RELIANCE'\n",
    "        self.ex_name    = 'NSE'\n",
    "    \n",
    "    def display_stock(self):\n",
    "        print(\"StockAttr CLASS: The selected stock is \" +self.stock_name )\n",
    "        print(\"StockAttr CLASS: The selected stock trades at exchange \" +self.ex_name )"
   ]
  },
  {
   "cell_type": "code",
   "execution_count": 25,
   "metadata": {},
   "outputs": [],
   "source": [
    "# Create a Stocksector() class and inherit name and exchange from Stock() class\n",
    "class StockSectorAttr(StockAttr):\n",
    "    def __init__(self, stock_name, ex_name):\n",
    "        super().__init__(stock_name,ex_name)\n",
    "        self.stock_name = stock_name\n",
    "        self.ex_name = ex_name\n",
    "\n",
    "    def display_sector(self):\n",
    "        x = stocks_dict[self.stock_name]\n",
    "        print(\"The selected stock sector is : \" + x)\n"
   ]
  },
  {
   "cell_type": "code",
   "execution_count": 29,
   "metadata": {},
   "outputs": [
    {
     "name": "stdout",
     "output_type": "stream",
     "text": [
      "StockAttr CLASS: The selected stock is RELIANCE\n",
      "StockAttr CLASS: The selected stock trades at exchange NSE\n"
     ]
    }
   ],
   "source": [
    "LL_OBJ = StockAttr('LAURAS LABS', 'BSE')\n",
    "LL_OBJ.display_stock()\n"
   ]
  },
  {
   "cell_type": "code",
   "execution_count": 18,
   "metadata": {},
   "outputs": [
    {
     "ename": "TypeError",
     "evalue": "__init__() takes 1 positional argument but 3 were given",
     "output_type": "error",
     "traceback": [
      "\u001b[1;31m---------------------------------------------------------------------------\u001b[0m",
      "\u001b[1;31mTypeError\u001b[0m                                 Traceback (most recent call last)",
      "\u001b[1;32m~\\AppData\\Local\\Temp/ipykernel_9556/596920949.py\u001b[0m in \u001b[0;36m<module>\u001b[1;34m\u001b[0m\n\u001b[1;32m----> 1\u001b[1;33m \u001b[0mreliance_ob\u001b[0m \u001b[1;33m=\u001b[0m \u001b[0mStockSectorAttr\u001b[0m\u001b[1;33m(\u001b[0m\u001b[1;34m'RELIANCE'\u001b[0m\u001b[1;33m,\u001b[0m \u001b[1;34m'NSE'\u001b[0m\u001b[1;33m)\u001b[0m\u001b[1;33m\u001b[0m\u001b[1;33m\u001b[0m\u001b[0m\n\u001b[0m\u001b[0;32m      2\u001b[0m \u001b[0mreliance_ob\u001b[0m\u001b[1;33m.\u001b[0m\u001b[0mdisplay_stock\u001b[0m\u001b[1;33m(\u001b[0m\u001b[1;33m)\u001b[0m\u001b[1;33m\u001b[0m\u001b[1;33m\u001b[0m\u001b[0m\n\u001b[0;32m      3\u001b[0m \u001b[0mreliance_ob\u001b[0m\u001b[1;33m.\u001b[0m\u001b[0mdisplay_sector\u001b[0m\u001b[1;33m(\u001b[0m\u001b[1;33m)\u001b[0m\u001b[1;33m\u001b[0m\u001b[1;33m\u001b[0m\u001b[0m\n",
      "\u001b[1;32m~\\AppData\\Local\\Temp/ipykernel_9556/2584292354.py\u001b[0m in \u001b[0;36m__init__\u001b[1;34m(self, stock_name, ex_name)\u001b[0m\n\u001b[0;32m      2\u001b[0m \u001b[1;32mclass\u001b[0m \u001b[0mStockSectorAttr\u001b[0m\u001b[1;33m(\u001b[0m\u001b[0mStockAttr\u001b[0m\u001b[1;33m)\u001b[0m\u001b[1;33m:\u001b[0m\u001b[1;33m\u001b[0m\u001b[1;33m\u001b[0m\u001b[0m\n\u001b[0;32m      3\u001b[0m     \u001b[1;32mdef\u001b[0m \u001b[0m__init__\u001b[0m\u001b[1;33m(\u001b[0m\u001b[0mself\u001b[0m\u001b[1;33m,\u001b[0m  \u001b[0mstock_name\u001b[0m\u001b[1;33m,\u001b[0m \u001b[0mex_name\u001b[0m\u001b[1;33m)\u001b[0m\u001b[1;33m:\u001b[0m\u001b[1;33m\u001b[0m\u001b[1;33m\u001b[0m\u001b[0m\n\u001b[1;32m----> 4\u001b[1;33m         \u001b[0msuper\u001b[0m\u001b[1;33m(\u001b[0m\u001b[1;33m)\u001b[0m\u001b[1;33m.\u001b[0m\u001b[0m__init__\u001b[0m\u001b[1;33m(\u001b[0m\u001b[0mstock_name\u001b[0m\u001b[1;33m,\u001b[0m\u001b[0mex_name\u001b[0m\u001b[1;33m)\u001b[0m\u001b[1;33m\u001b[0m\u001b[1;33m\u001b[0m\u001b[0m\n\u001b[0m\u001b[0;32m      5\u001b[0m \u001b[1;33m\u001b[0m\u001b[0m\n\u001b[0;32m      6\u001b[0m     \u001b[1;32mdef\u001b[0m \u001b[0mdisplay_sector\u001b[0m\u001b[1;33m(\u001b[0m\u001b[0mself\u001b[0m\u001b[1;33m)\u001b[0m\u001b[1;33m:\u001b[0m\u001b[1;33m\u001b[0m\u001b[1;33m\u001b[0m\u001b[0m\n",
      "\u001b[1;31mTypeError\u001b[0m: __init__() takes 1 positional argument but 3 were given"
     ]
    }
   ],
   "source": [
    "reliance_ob = StockSectorAttr('RELIANCE', 'NSE')\n",
    "reliance_ob.display_stock()\n",
    "reliance_ob.display_sector()"
   ]
  },
  {
   "cell_type": "code",
   "execution_count": 30,
   "metadata": {},
   "outputs": [
    {
     "name": "stdout",
     "output_type": "stream",
     "text": [
      "StockAttr CLASS: The selected stock is NYKAA\n",
      "StockAttr CLASS: The selected stock trades at exchange NSE\n",
      "The selected stock sector is : ECOMMERCE\n"
     ]
    }
   ],
   "source": [
    "nykaa_ob = StockSectorAttr(stock_name = \"NYKAA\", ex_name= \"NSE\")\n",
    "nykaa_ob.display_stock()\n",
    "nykaa_ob.display_sector()"
   ]
  },
  {
   "cell_type": "code",
   "execution_count": null,
   "metadata": {},
   "outputs": [],
   "source": []
  }
 ],
 "metadata": {
  "interpreter": {
   "hash": "6d46af94c2bbce495f1e668725902fa517c90b1782bcfe2fce0dd9868df553d3"
  },
  "kernelspec": {
   "display_name": "Python 3.8.12 64-bit ('base': conda)",
   "language": "python",
   "name": "python3"
  },
  "language_info": {
   "codemirror_mode": {
    "name": "ipython",
    "version": 3
   },
   "file_extension": ".py",
   "mimetype": "text/x-python",
   "name": "python",
   "nbconvert_exporter": "python",
   "pygments_lexer": "ipython3",
   "version": "3.8.12"
  },
  "orig_nbformat": 4
 },
 "nbformat": 4,
 "nbformat_minor": 2
}
